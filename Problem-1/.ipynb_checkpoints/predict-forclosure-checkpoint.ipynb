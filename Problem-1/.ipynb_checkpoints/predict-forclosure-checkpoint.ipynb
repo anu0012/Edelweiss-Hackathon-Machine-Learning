{
 "cells": [
  {
   "cell_type": "markdown",
   "metadata": {},
   "source": [
    "## Import Libraries"
   ]
  },
  {
   "cell_type": "code",
   "execution_count": 2,
   "metadata": {
    "_cell_guid": "b1076dfc-b9ad-4769-8c92-a6c4dae69d19",
    "_uuid": "8f2839f25d086af736a60e9eeb907d3b93b6e0e5"
   },
   "outputs": [],
   "source": [
    "import numpy as np\n",
    "import os\n",
    "import pandas as pd\n",
    "import sys\n",
    "import matplotlib.pyplot as plt\n",
    "%matplotlib inline\n",
    "from sklearn.model_selection import train_test_split\n",
    "from sklearn.naive_bayes import MultinomialNB, BernoulliNB, GaussianNB\n",
    "from sklearn.svm import LinearSVC,SVC\n",
    "from sklearn.ensemble import RandomForestClassifier, GradientBoostingClassifier, VotingClassifier, ExtraTreesClassifier, AdaBoostClassifier, BaggingClassifier\n",
    "from sklearn.linear_model import SGDClassifier, LogisticRegression\n",
    "from sklearn.linear_model import Ridge, RidgeCV, ElasticNet, LassoCV, LassoLarsCV\n",
    "from sklearn.preprocessing import StandardScaler\n",
    "from sklearn.tree import DecisionTreeClassifier\n",
    "from sklearn.model_selection import cross_val_score,KFold\n",
    "from sklearn.metrics import confusion_matrix, f1_score, accuracy_score, roc_auc_score, recall_score, precision_score,make_scorer\n",
    "from sklearn.decomposition import PCA\n",
    "import seaborn as sns\n",
    "sns.set(color_codes=True)\n",
    "from scipy import stats\n",
    "from scipy.stats import norm, skew #for some statistics\n",
    "import xgboost as xgb\n",
    "import lightgbm as lgb\n",
    "from catboost import CatBoostClassifier\n",
    "np.random.seed(25)\n",
    "import os\n",
    "import warnings \n",
    "warnings.filterwarnings(\"ignore\", category=FutureWarning)"
   ]
  },
  {
   "cell_type": "markdown",
   "metadata": {},
   "source": [
    "## Read Dataset"
   ]
  },
  {
   "cell_type": "code",
   "execution_count": 3,
   "metadata": {
    "_cell_guid": "79c7e3d0-c299-4dcb-8224-4455121ee9b0",
    "_uuid": "d629ff2d2480ee46fbb7e2d37f6b5fab8052498a"
   },
   "outputs": [],
   "source": [
    "train = pd.read_csv('train_foreclosure.csv')\n",
    "test = pd.read_csv('test_foreclosure.csv')\n",
    "cust_31JAN = pd.read_excel('Customers_31JAN2019.xlsx')\n",
    "lms_31JAN = pd.read_excel('LMS_31JAN2019.xlsx')\n",
    "RF_Final = pd.read_excel('RF_Final_Data.xlsx')"
   ]
  },
  {
   "cell_type": "code",
   "execution_count": 4,
   "metadata": {
    "_uuid": "6e1eb9b1a957d4b866c9465d80f8e1f3816c39e7"
   },
   "outputs": [
    {
     "data": {
      "text/html": [
       "<div>\n",
       "<style scoped>\n",
       "    .dataframe tbody tr th:only-of-type {\n",
       "        vertical-align: middle;\n",
       "    }\n",
       "\n",
       "    .dataframe tbody tr th {\n",
       "        vertical-align: top;\n",
       "    }\n",
       "\n",
       "    .dataframe thead th {\n",
       "        text-align: right;\n",
       "    }\n",
       "</style>\n",
       "<table border=\"1\" class=\"dataframe\">\n",
       "  <thead>\n",
       "    <tr style=\"text-align: right;\">\n",
       "      <th></th>\n",
       "      <th>AGREEMENTID</th>\n",
       "      <th>FORECLOSURE</th>\n",
       "    </tr>\n",
       "  </thead>\n",
       "  <tbody>\n",
       "    <tr>\n",
       "      <th>0</th>\n",
       "      <td>11220001</td>\n",
       "      <td>1</td>\n",
       "    </tr>\n",
       "    <tr>\n",
       "      <th>1</th>\n",
       "      <td>11220002</td>\n",
       "      <td>1</td>\n",
       "    </tr>\n",
       "    <tr>\n",
       "      <th>2</th>\n",
       "      <td>11220006</td>\n",
       "      <td>1</td>\n",
       "    </tr>\n",
       "    <tr>\n",
       "      <th>3</th>\n",
       "      <td>11220008</td>\n",
       "      <td>1</td>\n",
       "    </tr>\n",
       "    <tr>\n",
       "      <th>4</th>\n",
       "      <td>11220010</td>\n",
       "      <td>1</td>\n",
       "    </tr>\n",
       "  </tbody>\n",
       "</table>\n",
       "</div>"
      ],
      "text/plain": [
       "   AGREEMENTID  FORECLOSURE\n",
       "0     11220001            1\n",
       "1     11220002            1\n",
       "2     11220006            1\n",
       "3     11220008            1\n",
       "4     11220010            1"
      ]
     },
     "execution_count": 4,
     "metadata": {},
     "output_type": "execute_result"
    }
   ],
   "source": [
    "train.head()"
   ]
  },
  {
   "cell_type": "code",
   "execution_count": 5,
   "metadata": {
    "_uuid": "1a6919a4324277759c14dad378dfabd0b785421f"
   },
   "outputs": [],
   "source": [
    "target = train['FORECLOSURE']"
   ]
  },
  {
   "cell_type": "code",
   "execution_count": 15,
   "metadata": {
    "_uuid": "72b00e9ff48cdbf1a2a3c3f9d7d1fa5ce5e7b844"
   },
   "outputs": [
    {
     "data": {
      "text/html": [
       "<div>\n",
       "<style scoped>\n",
       "    .dataframe tbody tr th:only-of-type {\n",
       "        vertical-align: middle;\n",
       "    }\n",
       "\n",
       "    .dataframe tbody tr th {\n",
       "        vertical-align: top;\n",
       "    }\n",
       "\n",
       "    .dataframe thead th {\n",
       "        text-align: right;\n",
       "    }\n",
       "</style>\n",
       "<table border=\"1\" class=\"dataframe\">\n",
       "  <thead>\n",
       "    <tr style=\"text-align: right;\">\n",
       "      <th></th>\n",
       "      <th>AGREEMENTID</th>\n",
       "      <th>CUSTOMERID</th>\n",
       "      <th>LOAN_AMT</th>\n",
       "      <th>NET_DISBURSED_AMT</th>\n",
       "      <th>INTEREST_START_DATE</th>\n",
       "      <th>CURRENT_ROI</th>\n",
       "      <th>ORIGNAL_ROI</th>\n",
       "      <th>CURRENT_TENOR</th>\n",
       "      <th>ORIGNAL_TENOR</th>\n",
       "      <th>DUEDAY</th>\n",
       "      <th>AUTHORIZATIONDATE</th>\n",
       "      <th>CITY</th>\n",
       "      <th>PRE_EMI_DUEAMT</th>\n",
       "      <th>PRE_EMI_RECEIVED_AMT</th>\n",
       "      <th>PRE_EMI_OS_AMOUNT</th>\n",
       "      <th>EMI_DUEAMT</th>\n",
       "      <th>EMI_RECEIVED_AMT</th>\n",
       "      <th>EMI_OS_AMOUNT</th>\n",
       "      <th>EXCESS_AVAILABLE</th>\n",
       "      <th>EXCESS_ADJUSTED_AMT</th>\n",
       "      <th>BALANCE_EXCESS</th>\n",
       "      <th>NET_RECEIVABLE</th>\n",
       "      <th>OUTSTANDING_PRINCIPAL</th>\n",
       "      <th>PAID_PRINCIPAL</th>\n",
       "      <th>PAID_INTEREST</th>\n",
       "      <th>MONTHOPENING</th>\n",
       "      <th>LAST_RECEIPT_DATE</th>\n",
       "      <th>LAST_RECEIPT_AMOUNT</th>\n",
       "      <th>NET_LTV</th>\n",
       "      <th>COMPLETED_TENURE</th>\n",
       "      <th>BALANCE_TENURE</th>\n",
       "      <th>DPD</th>\n",
       "      <th>FOIR</th>\n",
       "      <th>PRODUCT</th>\n",
       "      <th>SCHEMEID</th>\n",
       "      <th>NPA_IN_LAST_MONTH</th>\n",
       "      <th>NPA_IN_CURRENT_MONTH</th>\n",
       "      <th>MOB</th>\n",
       "    </tr>\n",
       "  </thead>\n",
       "  <tbody>\n",
       "    <tr>\n",
       "      <th>0</th>\n",
       "      <td>11220001</td>\n",
       "      <td>12001000.0</td>\n",
       "      <td>1.171011e+07</td>\n",
       "      <td>1.171011e+07</td>\n",
       "      <td>2010-08-30</td>\n",
       "      <td>13.734072</td>\n",
       "      <td>10.612692</td>\n",
       "      <td>58.0</td>\n",
       "      <td>120</td>\n",
       "      <td>1</td>\n",
       "      <td>2010-08-29</td>\n",
       "      <td>MUMBAI</td>\n",
       "      <td>7994.273589</td>\n",
       "      <td>7994.273589</td>\n",
       "      <td>0.0</td>\n",
       "      <td>7.516699e+06</td>\n",
       "      <td>7.332154e+06</td>\n",
       "      <td>184544.396568</td>\n",
       "      <td>29042.45880</td>\n",
       "      <td>29042.4588</td>\n",
       "      <td>0.00000</td>\n",
       "      <td>184544.396568</td>\n",
       "      <td>2.262177e+06</td>\n",
       "      <td>9.447930e+06</td>\n",
       "      <td>2.617476e+06</td>\n",
       "      <td>9.338009e+06</td>\n",
       "      <td>2013-11-01</td>\n",
       "      <td>83559.0</td>\n",
       "      <td>40.06</td>\n",
       "      <td>39</td>\n",
       "      <td>19.0</td>\n",
       "      <td>0.0</td>\n",
       "      <td>0.6000</td>\n",
       "      <td>HL</td>\n",
       "      <td>10901100.0</td>\n",
       "      <td>NaN</td>\n",
       "      <td>NaN</td>\n",
       "      <td>39</td>\n",
       "    </tr>\n",
       "    <tr>\n",
       "      <th>1</th>\n",
       "      <td>11220002</td>\n",
       "      <td>12001001.0</td>\n",
       "      <td>1.929025e+07</td>\n",
       "      <td>1.929025e+07</td>\n",
       "      <td>2010-09-15</td>\n",
       "      <td>13.734072</td>\n",
       "      <td>10.612692</td>\n",
       "      <td>137.0</td>\n",
       "      <td>180</td>\n",
       "      <td>1</td>\n",
       "      <td>2010-09-15</td>\n",
       "      <td>MUMBAI</td>\n",
       "      <td>100504.575864</td>\n",
       "      <td>100504.575864</td>\n",
       "      <td>0.0</td>\n",
       "      <td>1.061903e+07</td>\n",
       "      <td>1.033958e+07</td>\n",
       "      <td>279448.084560</td>\n",
       "      <td>0.00000</td>\n",
       "      <td>0.0000</td>\n",
       "      <td>0.00000</td>\n",
       "      <td>279448.084560</td>\n",
       "      <td>1.234760e+07</td>\n",
       "      <td>6.942656e+06</td>\n",
       "      <td>4.945154e+06</td>\n",
       "      <td>1.713861e+07</td>\n",
       "      <td>2013-11-01</td>\n",
       "      <td>126530.0</td>\n",
       "      <td>84.31</td>\n",
       "      <td>38</td>\n",
       "      <td>99.0</td>\n",
       "      <td>0.0</td>\n",
       "      <td>0.6000</td>\n",
       "      <td>HL</td>\n",
       "      <td>10901100.0</td>\n",
       "      <td>NaN</td>\n",
       "      <td>NaN</td>\n",
       "      <td>38</td>\n",
       "    </tr>\n",
       "    <tr>\n",
       "      <th>2</th>\n",
       "      <td>11220003</td>\n",
       "      <td>12001002.0</td>\n",
       "      <td>4.053499e+06</td>\n",
       "      <td>4.053499e+06</td>\n",
       "      <td>2010-09-06</td>\n",
       "      <td>17.167590</td>\n",
       "      <td>12.485520</td>\n",
       "      <td>360.0</td>\n",
       "      <td>180</td>\n",
       "      <td>5</td>\n",
       "      <td>2010-09-06</td>\n",
       "      <td>MUMBAI</td>\n",
       "      <td>0.000000</td>\n",
       "      <td>0.000000</td>\n",
       "      <td>0.0</td>\n",
       "      <td>2.439242e+06</td>\n",
       "      <td>2.439242e+06</td>\n",
       "      <td>0.000000</td>\n",
       "      <td>0.44171</td>\n",
       "      <td>0.0000</td>\n",
       "      <td>0.44171</td>\n",
       "      <td>-0.441710</td>\n",
       "      <td>3.944954e+06</td>\n",
       "      <td>1.085444e+05</td>\n",
       "      <td>1.549566e+06</td>\n",
       "      <td>3.944954e+06</td>\n",
       "      <td>2013-11-05</td>\n",
       "      <td>30898.0</td>\n",
       "      <td>79.34</td>\n",
       "      <td>38</td>\n",
       "      <td>322.0</td>\n",
       "      <td>0.0</td>\n",
       "      <td>0.9100</td>\n",
       "      <td>HL</td>\n",
       "      <td>10901101.0</td>\n",
       "      <td>NaN</td>\n",
       "      <td>NaN</td>\n",
       "      <td>38</td>\n",
       "    </tr>\n",
       "    <tr>\n",
       "      <th>3</th>\n",
       "      <td>11220004</td>\n",
       "      <td>12001003.0</td>\n",
       "      <td>1.325703e+07</td>\n",
       "      <td>1.325703e+07</td>\n",
       "      <td>2010-09-29</td>\n",
       "      <td>15.606900</td>\n",
       "      <td>10.924830</td>\n",
       "      <td>198.0</td>\n",
       "      <td>180</td>\n",
       "      <td>5</td>\n",
       "      <td>2010-09-29</td>\n",
       "      <td>MUMBAI</td>\n",
       "      <td>28441.732656</td>\n",
       "      <td>28441.732656</td>\n",
       "      <td>0.0</td>\n",
       "      <td>7.211965e+06</td>\n",
       "      <td>7.211965e+06</td>\n",
       "      <td>0.000000</td>\n",
       "      <td>0.00000</td>\n",
       "      <td>0.0000</td>\n",
       "      <td>0.00000</td>\n",
       "      <td>0.000000</td>\n",
       "      <td>1.030278e+07</td>\n",
       "      <td>2.954253e+06</td>\n",
       "      <td>4.219464e+06</td>\n",
       "      <td>1.255472e+07</td>\n",
       "      <td>2013-11-05</td>\n",
       "      <td>88256.0</td>\n",
       "      <td>86.86</td>\n",
       "      <td>37</td>\n",
       "      <td>161.0</td>\n",
       "      <td>0.0</td>\n",
       "      <td>0.9686</td>\n",
       "      <td>HL</td>\n",
       "      <td>10901101.0</td>\n",
       "      <td>NaN</td>\n",
       "      <td>NaN</td>\n",
       "      <td>38</td>\n",
       "    </tr>\n",
       "    <tr>\n",
       "      <th>4</th>\n",
       "      <td>11220005</td>\n",
       "      <td>12001004.0</td>\n",
       "      <td>1.321140e+07</td>\n",
       "      <td>1.321140e+07</td>\n",
       "      <td>2010-09-06</td>\n",
       "      <td>16.543314</td>\n",
       "      <td>11.861244</td>\n",
       "      <td>142.0</td>\n",
       "      <td>180</td>\n",
       "      <td>5</td>\n",
       "      <td>2010-09-06</td>\n",
       "      <td>MUMBAI</td>\n",
       "      <td>0.000000</td>\n",
       "      <td>0.000000</td>\n",
       "      <td>0.0</td>\n",
       "      <td>7.712034e+06</td>\n",
       "      <td>7.712034e+06</td>\n",
       "      <td>0.000000</td>\n",
       "      <td>0.00000</td>\n",
       "      <td>0.0000</td>\n",
       "      <td>0.00000</td>\n",
       "      <td>0.000000</td>\n",
       "      <td>8.479158e+06</td>\n",
       "      <td>4.732245e+06</td>\n",
       "      <td>3.812974e+06</td>\n",
       "      <td>1.178201e+07</td>\n",
       "      <td>2013-11-05</td>\n",
       "      <td>91892.0</td>\n",
       "      <td>40.93</td>\n",
       "      <td>38</td>\n",
       "      <td>104.0</td>\n",
       "      <td>0.0</td>\n",
       "      <td>0.7300</td>\n",
       "      <td>HL</td>\n",
       "      <td>10901101.0</td>\n",
       "      <td>NaN</td>\n",
       "      <td>NaN</td>\n",
       "      <td>38</td>\n",
       "    </tr>\n",
       "  </tbody>\n",
       "</table>\n",
       "</div>"
      ],
      "text/plain": [
       "   AGREEMENTID  CUSTOMERID ...   NPA_IN_CURRENT_MONTH  MOB\n",
       "0     11220001  12001000.0 ...                    NaN   39\n",
       "1     11220002  12001001.0 ...                    NaN   38\n",
       "2     11220003  12001002.0 ...                    NaN   38\n",
       "3     11220004  12001003.0 ...                    NaN   38\n",
       "4     11220005  12001004.0 ...                    NaN   38\n",
       "\n",
       "[5 rows x 38 columns]"
      ]
     },
     "execution_count": 15,
     "metadata": {},
     "output_type": "execute_result"
    }
   ],
   "source": [
    "lms_31JAN.head()"
   ]
  },
  {
   "cell_type": "code",
   "execution_count": 16,
   "metadata": {
    "_uuid": "bf08ab53c16459f42c283761eae75432c48fb366"
   },
   "outputs": [
    {
     "data": {
      "text/plain": [
       "(624250, 38)"
      ]
     },
     "execution_count": 16,
     "metadata": {},
     "output_type": "execute_result"
    }
   ],
   "source": [
    "lms_31JAN.shape"
   ]
  },
  {
   "cell_type": "code",
   "execution_count": 17,
   "metadata": {
    "_uuid": "73afae43cfb38b218c671d9f2165f81eec13b67c"
   },
   "outputs": [],
   "source": [
    "## Sort LMS data based on Last receipt date of transaction\n",
    "\n",
    "lms_31JAN = lms_31JAN.sort_values(by='LAST_RECEIPT_DATE',ascending=False).drop_duplicates(subset=['AGREEMENTID'])"
   ]
  },
  {
   "cell_type": "code",
   "execution_count": 18,
   "metadata": {
    "_uuid": "f2325b83e722ffb9c01c9421bc04e90f88ee83d8"
   },
   "outputs": [],
   "source": [
    "train_df = pd.merge(train,lms_31JAN,how='inner',on='AGREEMENTID')"
   ]
  },
  {
   "cell_type": "code",
   "execution_count": 19,
   "metadata": {
    "_uuid": "75e78820c6931353107c67a0520e3addef2164d0"
   },
   "outputs": [],
   "source": [
    "test_df = pd.merge(test,lms_31JAN,how='inner',on='AGREEMENTID')"
   ]
  },
  {
   "cell_type": "code",
   "execution_count": 20,
   "metadata": {
    "_uuid": "4aa7d8b986bfa35828b6f3613072ff6cf6418f1d",
    "scrolled": false
   },
   "outputs": [
    {
     "data": {
      "text/plain": [
       "AGREEMENTID                  0\n",
       "FORECLOSURE                  0\n",
       "CUSTOMERID                 281\n",
       "LOAN_AMT                     0\n",
       "NET_DISBURSED_AMT            0\n",
       "INTEREST_START_DATE          0\n",
       "CURRENT_ROI                  0\n",
       "ORIGNAL_ROI                  0\n",
       "CURRENT_TENOR                0\n",
       "ORIGNAL_TENOR                0\n",
       "DUEDAY                       0\n",
       "AUTHORIZATIONDATE            0\n",
       "CITY                         0\n",
       "PRE_EMI_DUEAMT               0\n",
       "PRE_EMI_RECEIVED_AMT         0\n",
       "PRE_EMI_OS_AMOUNT            0\n",
       "EMI_DUEAMT                   0\n",
       "EMI_RECEIVED_AMT             0\n",
       "EMI_OS_AMOUNT                0\n",
       "EXCESS_AVAILABLE             0\n",
       "EXCESS_ADJUSTED_AMT          0\n",
       "BALANCE_EXCESS               0\n",
       "NET_RECEIVABLE               0\n",
       "OUTSTANDING_PRINCIPAL        0\n",
       "PAID_PRINCIPAL               0\n",
       "PAID_INTEREST                0\n",
       "MONTHOPENING                 0\n",
       "LAST_RECEIPT_DATE           75\n",
       "LAST_RECEIPT_AMOUNT        247\n",
       "NET_LTV                      0\n",
       "COMPLETED_TENURE             0\n",
       "BALANCE_TENURE               0\n",
       "DPD                          0\n",
       "FOIR                         0\n",
       "PRODUCT                      0\n",
       "SCHEMEID                   281\n",
       "NPA_IN_LAST_MONTH        19893\n",
       "NPA_IN_CURRENT_MONTH     19893\n",
       "MOB                          0\n",
       "dtype: int64"
      ]
     },
     "execution_count": 20,
     "metadata": {},
     "output_type": "execute_result"
    }
   ],
   "source": [
    "## checking null values\n",
    "train_df.isnull().sum()"
   ]
  },
  {
   "cell_type": "code",
   "execution_count": 21,
   "metadata": {
    "_uuid": "7db4b2e3dda1ca903fa661c7492e3c0c024c5bb3"
   },
   "outputs": [
    {
     "data": {
      "text/html": [
       "<div>\n",
       "<style scoped>\n",
       "    .dataframe tbody tr th:only-of-type {\n",
       "        vertical-align: middle;\n",
       "    }\n",
       "\n",
       "    .dataframe tbody tr th {\n",
       "        vertical-align: top;\n",
       "    }\n",
       "\n",
       "    .dataframe thead th {\n",
       "        text-align: right;\n",
       "    }\n",
       "</style>\n",
       "<table border=\"1\" class=\"dataframe\">\n",
       "  <thead>\n",
       "    <tr style=\"text-align: right;\">\n",
       "      <th></th>\n",
       "      <th>AGREEMENTID</th>\n",
       "      <th>FORECLOSURE</th>\n",
       "      <th>CUSTOMERID</th>\n",
       "      <th>LOAN_AMT</th>\n",
       "      <th>NET_DISBURSED_AMT</th>\n",
       "      <th>INTEREST_START_DATE</th>\n",
       "      <th>CURRENT_ROI</th>\n",
       "      <th>ORIGNAL_ROI</th>\n",
       "      <th>CURRENT_TENOR</th>\n",
       "      <th>ORIGNAL_TENOR</th>\n",
       "      <th>DUEDAY</th>\n",
       "      <th>AUTHORIZATIONDATE</th>\n",
       "      <th>CITY</th>\n",
       "      <th>PRE_EMI_DUEAMT</th>\n",
       "      <th>PRE_EMI_RECEIVED_AMT</th>\n",
       "      <th>PRE_EMI_OS_AMOUNT</th>\n",
       "      <th>EMI_DUEAMT</th>\n",
       "      <th>EMI_RECEIVED_AMT</th>\n",
       "      <th>EMI_OS_AMOUNT</th>\n",
       "      <th>EXCESS_AVAILABLE</th>\n",
       "      <th>EXCESS_ADJUSTED_AMT</th>\n",
       "      <th>BALANCE_EXCESS</th>\n",
       "      <th>NET_RECEIVABLE</th>\n",
       "      <th>OUTSTANDING_PRINCIPAL</th>\n",
       "      <th>PAID_PRINCIPAL</th>\n",
       "      <th>PAID_INTEREST</th>\n",
       "      <th>MONTHOPENING</th>\n",
       "      <th>LAST_RECEIPT_DATE</th>\n",
       "      <th>LAST_RECEIPT_AMOUNT</th>\n",
       "      <th>NET_LTV</th>\n",
       "      <th>COMPLETED_TENURE</th>\n",
       "      <th>BALANCE_TENURE</th>\n",
       "      <th>DPD</th>\n",
       "      <th>FOIR</th>\n",
       "      <th>PRODUCT</th>\n",
       "      <th>SCHEMEID</th>\n",
       "      <th>NPA_IN_LAST_MONTH</th>\n",
       "      <th>NPA_IN_CURRENT_MONTH</th>\n",
       "      <th>MOB</th>\n",
       "    </tr>\n",
       "  </thead>\n",
       "  <tbody>\n",
       "    <tr>\n",
       "      <th>0</th>\n",
       "      <td>11220001</td>\n",
       "      <td>1</td>\n",
       "      <td>12001000.0</td>\n",
       "      <td>1.171011e+07</td>\n",
       "      <td>1.171011e+07</td>\n",
       "      <td>2010-08-30</td>\n",
       "      <td>13.421934</td>\n",
       "      <td>10.612692</td>\n",
       "      <td>45.0</td>\n",
       "      <td>120</td>\n",
       "      <td>1</td>\n",
       "      <td>2010-08-29</td>\n",
       "      <td>MUMBAI</td>\n",
       "      <td>7994.273589</td>\n",
       "      <td>7994.273589</td>\n",
       "      <td>0.0</td>\n",
       "      <td>8.614898e+06</td>\n",
       "      <td>8.439420e+06</td>\n",
       "      <td>175477.782641</td>\n",
       "      <td>2.135869e+05</td>\n",
       "      <td>2.135869e+05</td>\n",
       "      <td>0.0</td>\n",
       "      <td>175477.782641</td>\n",
       "      <td>1.164472e+05</td>\n",
       "      <td>1.159366e+07</td>\n",
       "      <td>2.725723e+06</td>\n",
       "      <td>8.693575e+06</td>\n",
       "      <td>2014-05-05</td>\n",
       "      <td>1000000.0</td>\n",
       "      <td>40.06</td>\n",
       "      <td>45</td>\n",
       "      <td>0.0</td>\n",
       "      <td>0.0</td>\n",
       "      <td>0.60</td>\n",
       "      <td>HL</td>\n",
       "      <td>10901100.0</td>\n",
       "      <td>NaN</td>\n",
       "      <td>NaN</td>\n",
       "      <td>45</td>\n",
       "    </tr>\n",
       "    <tr>\n",
       "      <th>1</th>\n",
       "      <td>11220002</td>\n",
       "      <td>1</td>\n",
       "      <td>12001001.0</td>\n",
       "      <td>1.929025e+07</td>\n",
       "      <td>1.929025e+07</td>\n",
       "      <td>2010-09-15</td>\n",
       "      <td>13.734072</td>\n",
       "      <td>10.612692</td>\n",
       "      <td>137.0</td>\n",
       "      <td>180</td>\n",
       "      <td>1</td>\n",
       "      <td>2010-09-15</td>\n",
       "      <td>MUMBAI</td>\n",
       "      <td>100504.575864</td>\n",
       "      <td>100504.575864</td>\n",
       "      <td>0.0</td>\n",
       "      <td>1.061903e+07</td>\n",
       "      <td>1.033958e+07</td>\n",
       "      <td>279448.084560</td>\n",
       "      <td>0.000000e+00</td>\n",
       "      <td>0.000000e+00</td>\n",
       "      <td>0.0</td>\n",
       "      <td>279448.084560</td>\n",
       "      <td>1.234760e+07</td>\n",
       "      <td>6.942656e+06</td>\n",
       "      <td>4.945154e+06</td>\n",
       "      <td>1.713861e+07</td>\n",
       "      <td>2013-11-01</td>\n",
       "      <td>126530.0</td>\n",
       "      <td>84.31</td>\n",
       "      <td>38</td>\n",
       "      <td>99.0</td>\n",
       "      <td>0.0</td>\n",
       "      <td>0.60</td>\n",
       "      <td>HL</td>\n",
       "      <td>10901100.0</td>\n",
       "      <td>NaN</td>\n",
       "      <td>NaN</td>\n",
       "      <td>38</td>\n",
       "    </tr>\n",
       "    <tr>\n",
       "      <th>2</th>\n",
       "      <td>11220006</td>\n",
       "      <td>1</td>\n",
       "      <td>12001005.0</td>\n",
       "      <td>3.933395e+06</td>\n",
       "      <td>3.933395e+06</td>\n",
       "      <td>2010-11-01</td>\n",
       "      <td>15.606900</td>\n",
       "      <td>11.549106</td>\n",
       "      <td>312.0</td>\n",
       "      <td>180</td>\n",
       "      <td>5</td>\n",
       "      <td>2010-11-02</td>\n",
       "      <td>MUMBAI</td>\n",
       "      <td>5947.630536</td>\n",
       "      <td>5947.630536</td>\n",
       "      <td>0.0</td>\n",
       "      <td>4.670211e+06</td>\n",
       "      <td>4.670211e+06</td>\n",
       "      <td>0.000000</td>\n",
       "      <td>1.179716e+06</td>\n",
       "      <td>1.179716e+06</td>\n",
       "      <td>0.0</td>\n",
       "      <td>0.000000</td>\n",
       "      <td>2.994184e+06</td>\n",
       "      <td>9.392115e+05</td>\n",
       "      <td>2.990124e+06</td>\n",
       "      <td>3.744831e+06</td>\n",
       "      <td>2017-08-05</td>\n",
       "      <td>22878.0</td>\n",
       "      <td>50.89</td>\n",
       "      <td>81</td>\n",
       "      <td>231.0</td>\n",
       "      <td>0.0</td>\n",
       "      <td>0.72</td>\n",
       "      <td>HL</td>\n",
       "      <td>10901101.0</td>\n",
       "      <td>NaN</td>\n",
       "      <td>NaN</td>\n",
       "      <td>81</td>\n",
       "    </tr>\n",
       "    <tr>\n",
       "      <th>3</th>\n",
       "      <td>11220008</td>\n",
       "      <td>1</td>\n",
       "      <td>12001007.0</td>\n",
       "      <td>1.002259e+07</td>\n",
       "      <td>1.002259e+07</td>\n",
       "      <td>2010-10-06</td>\n",
       "      <td>11.236968</td>\n",
       "      <td>10.612692</td>\n",
       "      <td>91.0</td>\n",
       "      <td>180</td>\n",
       "      <td>1</td>\n",
       "      <td>2010-10-06</td>\n",
       "      <td>THANE</td>\n",
       "      <td>60322.180776</td>\n",
       "      <td>60322.180776</td>\n",
       "      <td>0.0</td>\n",
       "      <td>1.313098e+07</td>\n",
       "      <td>1.306732e+07</td>\n",
       "      <td>63659.280762</td>\n",
       "      <td>6.770848e+06</td>\n",
       "      <td>6.770848e+06</td>\n",
       "      <td>0.0</td>\n",
       "      <td>63659.280762</td>\n",
       "      <td>4.295120e+04</td>\n",
       "      <td>9.979637e+06</td>\n",
       "      <td>4.648994e+06</td>\n",
       "      <td>5.747875e+06</td>\n",
       "      <td>2018-05-02</td>\n",
       "      <td>65741.0</td>\n",
       "      <td>84.63</td>\n",
       "      <td>91</td>\n",
       "      <td>0.0</td>\n",
       "      <td>0.0</td>\n",
       "      <td>0.60</td>\n",
       "      <td>HL</td>\n",
       "      <td>10901100.0</td>\n",
       "      <td>NaN</td>\n",
       "      <td>NaN</td>\n",
       "      <td>91</td>\n",
       "    </tr>\n",
       "    <tr>\n",
       "      <th>4</th>\n",
       "      <td>11220010</td>\n",
       "      <td>1</td>\n",
       "      <td>12001009.0</td>\n",
       "      <td>7.755937e+06</td>\n",
       "      <td>7.755937e+06</td>\n",
       "      <td>2010-10-26</td>\n",
       "      <td>14.982624</td>\n",
       "      <td>10.924830</td>\n",
       "      <td>304.0</td>\n",
       "      <td>180</td>\n",
       "      <td>5</td>\n",
       "      <td>2010-10-26</td>\n",
       "      <td>MUMBAI</td>\n",
       "      <td>27732.787464</td>\n",
       "      <td>27732.787464</td>\n",
       "      <td>0.0</td>\n",
       "      <td>1.048923e+07</td>\n",
       "      <td>1.048923e+07</td>\n",
       "      <td>0.000000</td>\n",
       "      <td>1.202181e+05</td>\n",
       "      <td>1.202181e+05</td>\n",
       "      <td>0.0</td>\n",
       "      <td>0.000000</td>\n",
       "      <td>7.200653e+06</td>\n",
       "      <td>5.552847e+05</td>\n",
       "      <td>6.593778e+06</td>\n",
       "      <td>7.200653e+06</td>\n",
       "      <td>2018-04-05</td>\n",
       "      <td>54433.0</td>\n",
       "      <td>30.94</td>\n",
       "      <td>89</td>\n",
       "      <td>215.0</td>\n",
       "      <td>0.0</td>\n",
       "      <td>0.83</td>\n",
       "      <td>HL</td>\n",
       "      <td>10901101.0</td>\n",
       "      <td>NaN</td>\n",
       "      <td>NaN</td>\n",
       "      <td>90</td>\n",
       "    </tr>\n",
       "  </tbody>\n",
       "</table>\n",
       "</div>"
      ],
      "text/plain": [
       "   AGREEMENTID  FORECLOSURE ...   NPA_IN_CURRENT_MONTH  MOB\n",
       "0     11220001            1 ...                    NaN   45\n",
       "1     11220002            1 ...                    NaN   38\n",
       "2     11220006            1 ...                    NaN   81\n",
       "3     11220008            1 ...                    NaN   91\n",
       "4     11220010            1 ...                    NaN   90\n",
       "\n",
       "[5 rows x 39 columns]"
      ]
     },
     "execution_count": 21,
     "metadata": {},
     "output_type": "execute_result"
    }
   ],
   "source": [
    "train_df.head()"
   ]
  },
  {
   "cell_type": "code",
   "execution_count": 22,
   "metadata": {
    "_uuid": "de1cfef9bfaaa45ea1c3bee1c7262d9956389c94"
   },
   "outputs": [
    {
     "data": {
      "text/plain": [
       "AGREEMENTID                       int64\n",
       "FORECLOSURE                       int64\n",
       "CUSTOMERID                      float64\n",
       "LOAN_AMT                        float64\n",
       "NET_DISBURSED_AMT               float64\n",
       "INTEREST_START_DATE      datetime64[ns]\n",
       "CURRENT_ROI                     float64\n",
       "ORIGNAL_ROI                     float64\n",
       "CURRENT_TENOR                   float64\n",
       "ORIGNAL_TENOR                     int64\n",
       "DUEDAY                            int64\n",
       "AUTHORIZATIONDATE        datetime64[ns]\n",
       "CITY                             object\n",
       "PRE_EMI_DUEAMT                  float64\n",
       "PRE_EMI_RECEIVED_AMT            float64\n",
       "PRE_EMI_OS_AMOUNT               float64\n",
       "EMI_DUEAMT                      float64\n",
       "EMI_RECEIVED_AMT                float64\n",
       "EMI_OS_AMOUNT                   float64\n",
       "EXCESS_AVAILABLE                float64\n",
       "EXCESS_ADJUSTED_AMT             float64\n",
       "BALANCE_EXCESS                  float64\n",
       "NET_RECEIVABLE                  float64\n",
       "OUTSTANDING_PRINCIPAL           float64\n",
       "PAID_PRINCIPAL                  float64\n",
       "PAID_INTEREST                   float64\n",
       "MONTHOPENING                    float64\n",
       "LAST_RECEIPT_DATE        datetime64[ns]\n",
       "LAST_RECEIPT_AMOUNT             float64\n",
       "NET_LTV                         float64\n",
       "COMPLETED_TENURE                  int64\n",
       "BALANCE_TENURE                  float64\n",
       "DPD                             float64\n",
       "FOIR                            float64\n",
       "PRODUCT                          object\n",
       "SCHEMEID                        float64\n",
       "NPA_IN_LAST_MONTH                object\n",
       "NPA_IN_CURRENT_MONTH             object\n",
       "MOB                               int64\n",
       "dtype: object"
      ]
     },
     "execution_count": 22,
     "metadata": {},
     "output_type": "execute_result"
    }
   ],
   "source": [
    "train_df.dtypes"
   ]
  },
  {
   "cell_type": "markdown",
   "metadata": {},
   "source": [
    "## Correlation Matrix"
   ]
  },
  {
   "cell_type": "code",
   "execution_count": 23,
   "metadata": {
    "_uuid": "fca2b1027f64cfc2dde082bd5a4dd13b9abf52cd"
   },
   "outputs": [
    {
     "data": {
      "image/png": "[encoded data removed]",
      "text/plain": [
       "<Figure size 864x648 with 2 Axes>"
      ]
     },
     "metadata": {},
     "output_type": "display_data"
    }
   ],
   "source": [
    "#correlation matrix\n",
    "corrmat = train_df.corr()\n",
    "f, ax = plt.subplots(figsize=(12, 9))\n",
    "sns.heatmap(corrmat, square=True);"
   ]
  },
  {
   "cell_type": "code",
   "execution_count": 24,
   "metadata": {
    "_uuid": "1e52789373d570ffbc099420dcb44e896675d75e"
   },
   "outputs": [
    {
     "data": {
      "text/plain": [
       "CUSTOMERID              -0.364344\n",
       "AGREEMENTID             -0.364058\n",
       "SCHEMEID                -0.255963\n",
       "BALANCE_TENURE          -0.053532\n",
       "NET_RECEIVABLE          -0.018133\n",
       "CURRENT_TENOR           -0.013705\n",
       "EMI_OS_AMOUNT           -0.003317\n",
       "PRE_EMI_OS_AMOUNT       -0.002442\n",
       "FOIR                    -0.002217\n",
       "OUTSTANDING_PRINCIPAL   -0.001706\n",
       "NET_LTV                 -0.000437\n",
       "PAID_PRINCIPAL          -0.000377\n",
       "LOAN_AMT                 0.002764\n",
       "NET_DISBURSED_AMT        0.003141\n",
       "MONTHOPENING             0.003284\n",
       "CURRENT_ROI              0.004336\n",
       "PRE_EMI_DUEAMT           0.006460\n",
       "PRE_EMI_RECEIVED_AMT     0.006543\n",
       "LAST_RECEIPT_AMOUNT      0.010841\n",
       "DPD                      0.014886\n",
       "EXCESS_ADJUSTED_AMT      0.015767\n",
       "BALANCE_EXCESS           0.016498\n",
       "EXCESS_AVAILABLE         0.020171\n",
       "EMI_DUEAMT               0.029229\n",
       "EMI_RECEIVED_AMT         0.029877\n",
       "PAID_INTEREST            0.043619\n",
       "ORIGNAL_ROI              0.048652\n",
       "ORIGNAL_TENOR            0.089323\n",
       "COMPLETED_TENURE         0.159146\n",
       "MOB                      0.161123\n",
       "DUEDAY                   0.207742\n",
       "FORECLOSURE              1.000000\n",
       "Name: FORECLOSURE, dtype: float64"
      ]
     },
     "execution_count": 24,
     "metadata": {},
     "output_type": "execute_result"
    }
   ],
   "source": [
    "corrmat['FORECLOSURE'].sort_values()"
   ]
  },
  {
   "cell_type": "code",
   "execution_count": 25,
   "metadata": {
    "_uuid": "83a2a0ec22a4765e4e9d8571b8263005dc177429"
   },
   "outputs": [
    {
     "data": {
      "text/plain": [
       "<matplotlib.axes._subplots.AxesSubplot at 0x7f997f24e5f8>"
      ]
     },
     "execution_count": 25,
     "metadata": {},
     "output_type": "execute_result"
    },
    {
     "data": {
      "image/png": "[encoded data removed]",
      "text/plain": [
       "<Figure size 432x288 with 1 Axes>"
      ]
     },
     "metadata": {},
     "output_type": "display_data"
    }
   ],
   "source": [
    "sns.countplot(train_df['FORECLOSURE'])"
   ]
  },
  {
   "cell_type": "code",
   "execution_count": 26,
   "metadata": {
    "_uuid": "70108934471ac47d6e0b98473c1a7042c6cf4383"
   },
   "outputs": [
    {
     "data": {
      "text/plain": [
       "19731"
      ]
     },
     "execution_count": 26,
     "metadata": {},
     "output_type": "execute_result"
    }
   ],
   "source": [
    "train_df['CUSTOMERID'].nunique()"
   ]
  },
  {
   "cell_type": "code",
   "execution_count": 27,
   "metadata": {
    "_uuid": "8c8c2972e488accba8f1e599a2c320d94ce3ccaa"
   },
   "outputs": [
    {
     "data": {
      "image/png": "[encoded data removed]",
      "text/plain": [
       "<Figure size 432x288 with 1 Axes>"
      ]
     },
     "metadata": {},
     "output_type": "display_data"
    }
   ],
   "source": [
    "sns.kdeplot(train_df['ORIGNAL_TENOR'],label = 'non-scaled',shade=True)\n",
    "sns.kdeplot(np.log(train_df['ORIGNAL_TENOR']+1), label='SCALED',shade=True)\n",
    "plt.legend();"
   ]
  },
  {
   "cell_type": "code",
   "execution_count": 28,
   "metadata": {
    "_uuid": "852d52f98b42a5ccf7373a0b95230a48998866e3"
   },
   "outputs": [
    {
     "name": "stderr",
     "output_type": "stream",
     "text": [
      "/opt/conda/lib/python3.6/site-packages/ipykernel_launcher.py:2: RuntimeWarning: invalid value encountered in log\n",
      "  \n",
      "/opt/conda/lib/python3.6/site-packages/statsmodels/nonparametric/kde.py:448: RuntimeWarning: invalid value encountered in greater\n",
      "  X = X[np.logical_and(X > clip[0], X < clip[1])] # won't work for two columns.\n",
      "/opt/conda/lib/python3.6/site-packages/statsmodels/nonparametric/kde.py:448: RuntimeWarning: invalid value encountered in less\n",
      "  X = X[np.logical_and(X > clip[0], X < clip[1])] # won't work for two columns.\n"
     ]
    },
    {
     "data": {
      "image/png": "[encoded data removed]",
      "text/plain": [
       "<Figure size 432x288 with 1 Axes>"
      ]
     },
     "metadata": {},
     "output_type": "display_data"
    }
   ],
   "source": [
    "sns.kdeplot(train_df['ORIGNAL_ROI']-train_df['CURRENT_ROI'],label = 'non-scaled',shade=True)\n",
    "sns.kdeplot(np.log(train_df['ORIGNAL_ROI']-train_df['CURRENT_ROI']+1), label='SCALED',shade=True)\n",
    "plt.legend();"
   ]
  },
  {
   "cell_type": "markdown",
   "metadata": {},
   "source": [
    "## Feature Engineering"
   ]
  },
  {
   "cell_type": "code",
   "execution_count": 29,
   "metadata": {
    "_uuid": "885eee629243bdf3b8b11b05985ca877476d7960"
   },
   "outputs": [],
   "source": [
    "train_df['diff_LOAN_AMT'] = train_df['LOAN_AMT']-train_df['NET_DISBURSED_AMT']\n",
    "train_df['diff_tenor'] = train_df['ORIGNAL_TENOR']-train_df['CURRENT_TENOR']\n",
    "train_df['diff_ROI'] = train_df['ORIGNAL_ROI']-train_df['CURRENT_ROI']\n",
    "#train_df['total_paid'] = train_df['PAID_PRINCIPAL'] + train_df['PAID_INTEREST']\n",
    "train_df['total_PRINCIPAL'] = train_df['OUTSTANDING_PRINCIPAL']+train_df['PAID_PRINCIPAL']\n",
    "train_df['total_tenure'] = train_df['COMPLETED_TENURE']+train_df['BALANCE_TENURE']\n",
    "train_df['SCHEMEID'].fillna(99999999,inplace=True)\n",
    "train_df['LAST_RECEIPT_AMOUNT'].fillna(train_df['LAST_RECEIPT_AMOUNT'].mean(),inplace=True)\n",
    "\n",
    "test_df['diff_tenor'] = test_df['ORIGNAL_TENOR']-test_df['CURRENT_TENOR']\n",
    "test_df['diff_ROI'] = test_df['ORIGNAL_ROI']-test_df['CURRENT_ROI']\n",
    "test_df['diff_LOAN_AMT'] = test_df['LOAN_AMT']-test_df['NET_DISBURSED_AMT']\n",
    "#test_df['total_paid'] = test_df['PAID_PRINCIPAL'] + test_df['PAID_INTEREST']\n",
    "test_df['total_PRINCIPAL'] = test_df['OUTSTANDING_PRINCIPAL']+test_df['PAID_PRINCIPAL']\n",
    "test_df['total_tenure'] = test_df['COMPLETED_TENURE']+test_df['BALANCE_TENURE']\n",
    "test_df['SCHEMEID'].fillna(99999999,inplace=True)\n",
    "test_df['LAST_RECEIPT_AMOUNT'].fillna(test_df['LAST_RECEIPT_AMOUNT'].mean(),inplace=True)"
   ]
  },
  {
   "cell_type": "code",
   "execution_count": 30,
   "metadata": {
    "_uuid": "737a66967dffe298850c2c782374cbffa7447bd5"
   },
   "outputs": [],
   "source": [
    "train_df['SCHEMEID'] = train_df['SCHEMEID'].astype(int)"
   ]
  },
  {
   "cell_type": "code",
   "execution_count": 31,
   "metadata": {
    "_uuid": "7979d4ff132afabd9ff30fd02d94f6551b00372d"
   },
   "outputs": [],
   "source": [
    "train_df['Value'] = train_df['LOAN_AMT'] * train_df['NET_LTV']\n",
    "test_df['Value'] = test_df['LOAN_AMT'] * test_df['NET_LTV']"
   ]
  },
  {
   "cell_type": "code",
   "execution_count": 34,
   "metadata": {
    "_uuid": "83d68d13ca35b47f082f34d63169fe933024b8e0"
   },
   "outputs": [],
   "source": [
    "# Date Features\n",
    "import datetime as dt\n",
    "train_df['AUTH_DAY'] = train_df['AUTHORIZATIONDATE'].map(lambda x: x.day)\n",
    "test_df['AUTH_DAY'] = test_df['AUTHORIZATIONDATE'].map(lambda x: x.day)\n",
    "train_df['AUTH_MONTH'] = train_df['AUTHORIZATIONDATE'].map(lambda x: x.month)\n",
    "test_df['AUTH_MONTH'] = test_df['AUTHORIZATIONDATE'].map(lambda x: x.month)\n",
    "train_df['AUTH_YEAR'] = train_df['AUTHORIZATIONDATE'].map(lambda x: x.year)\n",
    "test_df['AUTH_YEAR'] = test_df['AUTHORIZATIONDATE'].map(lambda x: x.year)\n",
    "\n",
    "train_df['INTEREST_DAY'] = train_df['INTEREST_START_DATE'].map(lambda x: x.day)\n",
    "test_df['INTEREST_DAY'] = test_df['INTEREST_START_DATE'].map(lambda x: x.day)\n",
    "train_df['INTEREST_MONTH'] = train_df['INTEREST_START_DATE'].map(lambda x: x.month)\n",
    "test_df['INTEREST_MONTH'] = test_df['INTEREST_START_DATE'].map(lambda x: x.month)\n",
    "train_df['INTEREST_YEAR'] = train_df['INTEREST_START_DATE'].map(lambda x: x.year)\n",
    "test_df['INTEREST_YEAR'] = test_df['INTEREST_START_DATE'].map(lambda x: x.year)\n",
    "\n",
    "train_df['LAST_RECEIPT_DAY'] = train_df['LAST_RECEIPT_DATE'].map(lambda x: x.day)\n",
    "test_df['LAST_RECEIPT_DAY'] = test_df['LAST_RECEIPT_DATE'].map(lambda x: x.day)\n",
    "train_df['LAST_RECEIPT_MONTH'] = train_df['LAST_RECEIPT_DATE'].map(lambda x: x.month)\n",
    "test_df['LAST_RECEIPT_MONTH'] = test_df['LAST_RECEIPT_DATE'].map(lambda x: x.month)\n",
    "train_df['LAST_RECEIPT_YEAR'] = train_df['LAST_RECEIPT_DATE'].map(lambda x: x.year)\n",
    "test_df['LAST_RECEIPT_YEAR'] = test_df['LAST_RECEIPT_DATE'].map(lambda x: x.year)"
   ]
  },
  {
   "cell_type": "code",
   "execution_count": 35,
   "metadata": {
    "_uuid": "b62651b376abb359e8f667a74c0cd2c7b9194ba0"
   },
   "outputs": [
    {
     "data": {
      "text/plain": [
       "AGREEMENTID                  0\n",
       "FORECLOSURE                  0\n",
       "CUSTOMERID                 281\n",
       "LOAN_AMT                     0\n",
       "NET_DISBURSED_AMT            0\n",
       "INTEREST_START_DATE          0\n",
       "CURRENT_ROI                  0\n",
       "ORIGNAL_ROI                  0\n",
       "CURRENT_TENOR                0\n",
       "ORIGNAL_TENOR                0\n",
       "DUEDAY                       0\n",
       "AUTHORIZATIONDATE            0\n",
       "CITY                         0\n",
       "PRE_EMI_DUEAMT               0\n",
       "PRE_EMI_RECEIVED_AMT         0\n",
       "PRE_EMI_OS_AMOUNT            0\n",
       "EMI_DUEAMT                   0\n",
       "EMI_RECEIVED_AMT             0\n",
       "EMI_OS_AMOUNT                0\n",
       "EXCESS_AVAILABLE             0\n",
       "EXCESS_ADJUSTED_AMT          0\n",
       "BALANCE_EXCESS               0\n",
       "NET_RECEIVABLE               0\n",
       "OUTSTANDING_PRINCIPAL        0\n",
       "PAID_PRINCIPAL               0\n",
       "PAID_INTEREST                0\n",
       "MONTHOPENING                 0\n",
       "LAST_RECEIPT_DATE           75\n",
       "LAST_RECEIPT_AMOUNT          0\n",
       "NET_LTV                      0\n",
       "COMPLETED_TENURE             0\n",
       "BALANCE_TENURE               0\n",
       "DPD                          0\n",
       "FOIR                         0\n",
       "PRODUCT                      0\n",
       "SCHEMEID                     0\n",
       "NPA_IN_LAST_MONTH        19893\n",
       "NPA_IN_CURRENT_MONTH     19893\n",
       "MOB                          0\n",
       "diff_LOAN_AMT                0\n",
       "diff_tenor                   0\n",
       "diff_ROI                     0\n",
       "total_PRINCIPAL              0\n",
       "total_tenure                 0\n",
       "Value                        0\n",
       "AUTH_DAY                     0\n",
       "AUTH_MONTH                   0\n",
       "AUTH_YEAR                    0\n",
       "INTEREST_DAY                 0\n",
       "INTEREST_MONTH               0\n",
       "INTEREST_YEAR                0\n",
       "LAST_RECEIPT_DAY            75\n",
       "LAST_RECEIPT_MONTH          75\n",
       "LAST_RECEIPT_YEAR           75\n",
       "dtype: int64"
      ]
     },
     "execution_count": 35,
     "metadata": {},
     "output_type": "execute_result"
    }
   ],
   "source": [
    "train_df.isnull().sum()"
   ]
  },
  {
   "cell_type": "markdown",
   "metadata": {},
   "source": [
    "## Handling Null Values"
   ]
  },
  {
   "cell_type": "code",
   "execution_count": 36,
   "metadata": {
    "_uuid": "a7ebb7ed68214d445fe5ccefd71549eb743cc351"
   },
   "outputs": [],
   "source": [
    "train_df['LAST_RECEIPT_DAY'].fillna(train_df['LAST_RECEIPT_DAY'].mode()[0],inplace=True)\n",
    "train_df['LAST_RECEIPT_MONTH'].fillna(train_df['LAST_RECEIPT_MONTH'].mode()[0],inplace=True)\n",
    "train_df['LAST_RECEIPT_YEAR'].fillna(train_df['LAST_RECEIPT_YEAR'].mode()[0],inplace=True)\n",
    "\n",
    "test_df['LAST_RECEIPT_DAY'].fillna(test_df['LAST_RECEIPT_DAY'].mode()[0],inplace=True)\n",
    "test_df['LAST_RECEIPT_MONTH'].fillna(test_df['LAST_RECEIPT_MONTH'].mode()[0],inplace=True)\n",
    "test_df['LAST_RECEIPT_YEAR'].fillna(test_df['LAST_RECEIPT_YEAR'].mode()[0],inplace=True)"
   ]
  },
  {
   "cell_type": "code",
   "execution_count": 37,
   "metadata": {
    "_uuid": "99d573410bce6b36e841c093ff87c46384fcd4ec"
   },
   "outputs": [
    {
     "data": {
      "text/plain": [
       "AGREEMENTID                       int64\n",
       "FORECLOSURE                       int64\n",
       "CUSTOMERID                      float64\n",
       "LOAN_AMT                        float64\n",
       "NET_DISBURSED_AMT               float64\n",
       "INTEREST_START_DATE      datetime64[ns]\n",
       "CURRENT_ROI                     float64\n",
       "ORIGNAL_ROI                     float64\n",
       "CURRENT_TENOR                   float64\n",
       "ORIGNAL_TENOR                     int64\n",
       "DUEDAY                            int64\n",
       "AUTHORIZATIONDATE        datetime64[ns]\n",
       "CITY                             object\n",
       "PRE_EMI_DUEAMT                  float64\n",
       "PRE_EMI_RECEIVED_AMT            float64\n",
       "PRE_EMI_OS_AMOUNT               float64\n",
       "EMI_DUEAMT                      float64\n",
       "EMI_RECEIVED_AMT                float64\n",
       "EMI_OS_AMOUNT                   float64\n",
       "EXCESS_AVAILABLE                float64\n",
       "EXCESS_ADJUSTED_AMT             float64\n",
       "BALANCE_EXCESS                  float64\n",
       "NET_RECEIVABLE                  float64\n",
       "OUTSTANDING_PRINCIPAL           float64\n",
       "PAID_PRINCIPAL                  float64\n",
       "PAID_INTEREST                   float64\n",
       "MONTHOPENING                    float64\n",
       "LAST_RECEIPT_DATE        datetime64[ns]\n",
       "LAST_RECEIPT_AMOUNT             float64\n",
       "NET_LTV                         float64\n",
       "COMPLETED_TENURE                  int64\n",
       "BALANCE_TENURE                  float64\n",
       "DPD                             float64\n",
       "FOIR                            float64\n",
       "PRODUCT                          object\n",
       "SCHEMEID                          int64\n",
       "NPA_IN_LAST_MONTH                object\n",
       "NPA_IN_CURRENT_MONTH             object\n",
       "MOB                               int64\n",
       "diff_LOAN_AMT                   float64\n",
       "diff_tenor                      float64\n",
       "diff_ROI                        float64\n",
       "total_PRINCIPAL                 float64\n",
       "total_tenure                    float64\n",
       "Value                           float64\n",
       "AUTH_DAY                          int64\n",
       "AUTH_MONTH                        int64\n",
       "AUTH_YEAR                         int64\n",
       "INTEREST_DAY                      int64\n",
       "INTEREST_MONTH                    int64\n",
       "INTEREST_YEAR                     int64\n",
       "LAST_RECEIPT_DAY                float64\n",
       "LAST_RECEIPT_MONTH              float64\n",
       "LAST_RECEIPT_YEAR               float64\n",
       "dtype: object"
      ]
     },
     "execution_count": 37,
     "metadata": {},
     "output_type": "execute_result"
    }
   ],
   "source": [
    "train_df.dtypes"
   ]
  },
  {
   "cell_type": "code",
   "execution_count": 38,
   "metadata": {
    "_uuid": "4b8ee60d331eb7837577c5cf9624c63de54c68e0"
   },
   "outputs": [
    {
     "data": {
      "text/plain": [
       "2018    7568\n",
       "2017    4896\n",
       "2016    2545\n",
       "2015    1771\n",
       "2014    1403\n",
       "2013     906\n",
       "2012     635\n",
       "2011     269\n",
       "2010      19\n",
       "Name: AUTH_YEAR, dtype: int64"
      ]
     },
     "execution_count": 38,
     "metadata": {},
     "output_type": "execute_result"
    }
   ],
   "source": [
    "train_df['AUTH_YEAR'].value_counts()"
   ]
  },
  {
   "cell_type": "code",
   "execution_count": 39,
   "metadata": {
    "_uuid": "1848d2ed70704e1ecb4adc3c475a7903e2185839"
   },
   "outputs": [
    {
     "data": {
      "image/png": "[encoded data removed]",
      "text/plain": [
       "<Figure size 432x288 with 1 Axes>"
      ]
     },
     "metadata": {},
     "output_type": "display_data"
    }
   ],
   "source": [
    "sns.kdeplot(train_df['ORIGNAL_TENOR'],label = 'non-scaled',shade=True)\n",
    "sns.kdeplot(np.log(train_df['ORIGNAL_TENOR']+1), label='SCALED',shade=True)\n",
    "plt.legend();"
   ]
  },
  {
   "cell_type": "markdown",
   "metadata": {},
   "source": [
    "## Feature Transformation"
   ]
  },
  {
   "cell_type": "code",
   "execution_count": 40,
   "metadata": {
    "_uuid": "802d495186066faaddafe5b5ec5b40ed6f6d4aaa"
   },
   "outputs": [
    {
     "name": "stderr",
     "output_type": "stream",
     "text": [
      "/opt/conda/lib/python3.6/site-packages/ipykernel_launcher.py:9: RuntimeWarning: invalid value encountered in log\n",
      "  if __name__ == '__main__':\n",
      "/opt/conda/lib/python3.6/site-packages/ipykernel_launcher.py:10: RuntimeWarning: invalid value encountered in log\n",
      "  # Remove the CWD from sys.path while we load stuff.\n",
      "/opt/conda/lib/python3.6/site-packages/ipykernel_launcher.py:9: RuntimeWarning: divide by zero encountered in log\n",
      "  if __name__ == '__main__':\n",
      "/opt/conda/lib/python3.6/site-packages/ipykernel_launcher.py:10: RuntimeWarning: divide by zero encountered in log\n",
      "  # Remove the CWD from sys.path while we load stuff.\n"
     ]
    }
   ],
   "source": [
    "for i in train_df.columns:\n",
    "    if train_df[i].dtype == 'float64':\n",
    "        train_df[i] = np.log(train_df[i]+1)\n",
    "        test_df[i] = np.log(test_df[i]+1)\n",
    "        \n",
    "train_df['DUEDAY'] = np.log(train_df['DUEDAY']+1)\n",
    "test_df['DUEDAY'] = np.log(test_df['DUEDAY']+1)\n",
    "\n",
    "train_df['ORIGNAL_TENOR'] = np.log(train_df['ORIGNAL_TENOR']+1)\n",
    "test_df['ORIGNAL_TENOR'] = np.log(test_df['ORIGNAL_TENOR']+1)\n",
    "\n",
    "train_df['COMPLETED_TENURE'] = np.log(train_df['COMPLETED_TENURE']+1)\n",
    "test_df['COMPLETED_TENURE'] = np.log(test_df['COMPLETED_TENURE']+1)"
   ]
  },
  {
   "cell_type": "markdown",
   "metadata": {},
   "source": [
    "## Lable Encoding for Categorical Features"
   ]
  },
  {
   "cell_type": "code",
   "execution_count": 41,
   "metadata": {
    "_uuid": "53a69773267cf4552247f349fc5f65621c9746ef"
   },
   "outputs": [],
   "source": [
    "from sklearn.preprocessing import LabelEncoder\n",
    "\n",
    "lb_make = LabelEncoder()\n",
    "train_df[\"CITY\"] = lb_make.fit_transform(train_df[\"CITY\"])\n",
    "train_df[\"PRODUCT\"] = lb_make.fit_transform(train_df[\"PRODUCT\"])\n",
    "\n",
    "test_df[\"CITY\"] = lb_make.fit_transform(test_df[\"CITY\"])\n",
    "test_df[\"PRODUCT\"] = lb_make.fit_transform(test_df[\"PRODUCT\"])"
   ]
  },
  {
   "cell_type": "code",
   "execution_count": 42,
   "metadata": {
    "_uuid": "f7116608e400b4ccda2ff150f867d14348fd1e74"
   },
   "outputs": [],
   "source": [
    "## features to be included in the model\n",
    "feature_names = [x for x in train_df.columns if x not in ['AGREEMENTID','FORECLOSURE','NPA_IN_LAST_MONTH','NPA_IN_CURRENT_MONTH'\n",
    "                                                      ,'LAST_RECEIPT_DATE','CUSTOMERID',\n",
    "                                                         'INTEREST_START_DATE','AUTHORIZATIONDATE']]"
   ]
  },
  {
   "cell_type": "markdown",
   "metadata": {},
   "source": [
    "## Modeling"
   ]
  },
  {
   "cell_type": "code",
   "execution_count": 43,
   "metadata": {
    "_uuid": "e2c104c32c3e66779a95c029ec4a39c8d8851d92"
   },
   "outputs": [],
   "source": [
    "model = CatBoostClassifier(iterations=5000,eval_metric='AUC',random_seed=42,verbose=False,max_depth=13,learning_rate=0.05,task_type='GPU')\n",
    "model.fit(train_df[feature_names],target)\n",
    "pred = model.predict_proba(test_df[feature_names])"
   ]
  },
  {
   "cell_type": "code",
   "execution_count": 52,
   "metadata": {
    "_uuid": "d31043431b9f3e394db8f19cb268fc6664d8b2c9"
   },
   "outputs": [],
   "source": [
    "## make submission\n",
    "sub = pd.DataFrame()\n",
    "sub['AGREEMENTID'] = test['AGREEMENTID']\n",
    "sub['FORECLOSURE'] = [i[1] for i in pred]\n",
    "sub.to_csv('result.csv', index=False)"
   ]
  },
  {
   "cell_type": "code",
   "execution_count": 53,
   "metadata": {
    "_uuid": "fee7ff81a5acf930f67354835a20a4008a6e5d3a"
   },
   "outputs": [
    {
     "data": {
      "text/html": [
       "<div>\n",
       "<style scoped>\n",
       "    .dataframe tbody tr th:only-of-type {\n",
       "        vertical-align: middle;\n",
       "    }\n",
       "\n",
       "    .dataframe tbody tr th {\n",
       "        vertical-align: top;\n",
       "    }\n",
       "\n",
       "    .dataframe thead th {\n",
       "        text-align: right;\n",
       "    }\n",
       "</style>\n",
       "<table border=\"1\" class=\"dataframe\">\n",
       "  <thead>\n",
       "    <tr style=\"text-align: right;\">\n",
       "      <th></th>\n",
       "      <th>AGREEMENTID</th>\n",
       "      <th>FORECLOSURE</th>\n",
       "    </tr>\n",
       "  </thead>\n",
       "  <tbody>\n",
       "    <tr>\n",
       "      <th>0</th>\n",
       "      <td>11220003</td>\n",
       "      <td>0.997010</td>\n",
       "    </tr>\n",
       "    <tr>\n",
       "      <th>1</th>\n",
       "      <td>11220004</td>\n",
       "      <td>0.999709</td>\n",
       "    </tr>\n",
       "    <tr>\n",
       "      <th>2</th>\n",
       "      <td>11220005</td>\n",
       "      <td>0.999951</td>\n",
       "    </tr>\n",
       "    <tr>\n",
       "      <th>3</th>\n",
       "      <td>11220007</td>\n",
       "      <td>0.999589</td>\n",
       "    </tr>\n",
       "    <tr>\n",
       "      <th>4</th>\n",
       "      <td>11220009</td>\n",
       "      <td>0.000752</td>\n",
       "    </tr>\n",
       "  </tbody>\n",
       "</table>\n",
       "</div>"
      ],
      "text/plain": [
       "   AGREEMENTID  FORECLOSURE\n",
       "0     11220003     0.997010\n",
       "1     11220004     0.999709\n",
       "2     11220005     0.999951\n",
       "3     11220007     0.999589\n",
       "4     11220009     0.000752"
      ]
     },
     "execution_count": 53,
     "metadata": {},
     "output_type": "execute_result"
    }
   ],
   "source": [
    "sub.head()"
   ]
  },
  {
   "cell_type": "code",
   "execution_count": 54,
   "metadata": {
    "_uuid": "c3a02502c941ee564f8b3517f3aa93463d494059"
   },
   "outputs": [],
   "source": []
  }
 ],
 "metadata": {
  "kernelspec": {
   "display_name": "Python 3",
   "language": "python",
   "name": "python3"
  },
  "language_info": {
   "codemirror_mode": {
    "name": "ipython",
    "version": 3
   },
   "file_extension": ".py",
   "mimetype": "text/x-python",
   "name": "python",
   "nbconvert_exporter": "python",
   "pygments_lexer": "ipython3",
   "version": "3.6.5"
  }
 },
 "nbformat": 4,
 "nbformat_minor": 1
}
