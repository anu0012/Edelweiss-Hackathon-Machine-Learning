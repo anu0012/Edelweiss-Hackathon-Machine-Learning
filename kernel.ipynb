{
  "cells": [
    {
      "metadata": {
        "_uuid": "8f2839f25d086af736a60e9eeb907d3b93b6e0e5",
        "_cell_guid": "b1076dfc-b9ad-4769-8c92-a6c4dae69d19",
        "trusted": true
      },
      "cell_type": "code",
      "source": "import numpy as np\nimport os\nimport pandas as pd\nimport sys\nimport matplotlib.pyplot as plt\n%matplotlib inline\nfrom sklearn.model_selection import train_test_split\nfrom sklearn.naive_bayes import MultinomialNB, BernoulliNB, GaussianNB\nfrom sklearn.svm import LinearSVC,SVC\nfrom sklearn.ensemble import RandomForestClassifier, GradientBoostingClassifier, VotingClassifier, ExtraTreesClassifier, AdaBoostClassifier, BaggingClassifier\nfrom sklearn.linear_model import SGDClassifier, LogisticRegression\nfrom sklearn.linear_model import Ridge, RidgeCV, ElasticNet, LassoCV, LassoLarsCV\nfrom sklearn.preprocessing import StandardScaler\nfrom sklearn.tree import DecisionTreeClassifier\nfrom sklearn.model_selection import cross_val_score\nfrom sklearn.metrics import confusion_matrix, f1_score, accuracy_score, roc_auc_score, recall_score, precision_score,make_scorer\nfrom sklearn.decomposition import PCA\nimport seaborn as sns\nsns.set(color_codes=True)\nfrom scipy import stats\nfrom scipy.stats import norm, skew #for some statistics\nimport xgboost as xgb\nimport lightgbm as lgb\nfrom catboost import CatBoostClassifier\nnp.random.seed(25)\nimport os\nimport warnings \nwarnings.filterwarnings(\"ignore\", category=FutureWarning)",
      "execution_count": null,
      "outputs": []
    },
    {
      "metadata": {
        "_cell_guid": "79c7e3d0-c299-4dcb-8224-4455121ee9b0",
        "_uuid": "d629ff2d2480ee46fbb7e2d37f6b5fab8052498a",
        "trusted": true
      },
      "cell_type": "code",
      "source": "train = pd.read_csv('../input/train_foreclosure.csv')\ntest = pd.read_csv('../input/test_foreclosure.csv')\ncust_31JAN = pd.read_excel('../input/Customers_31JAN2019.xlsx')\nlms_31JAN = pd.read_excel('../input/LMS_31JAN2019.xlsx')\nRF_Final = pd.read_excel('../input/RF_Final_Data.xlsx')",
      "execution_count": null,
      "outputs": []
    },
    {
      "metadata": {
        "trusted": true,
        "_uuid": "6e1eb9b1a957d4b866c9465d80f8e1f3816c39e7"
      },
      "cell_type": "code",
      "source": "train.head()",
      "execution_count": null,
      "outputs": []
    },
    {
      "metadata": {
        "trusted": true,
        "_uuid": "1a6919a4324277759c14dad378dfabd0b785421f"
      },
      "cell_type": "code",
      "source": "target = train['FORECLOSURE']",
      "execution_count": null,
      "outputs": []
    },
    {
      "metadata": {
        "trusted": true,
        "_uuid": "a27b5a225e3ad96bf7aa87348eff84e2885d7fea"
      },
      "cell_type": "code",
      "source": "cust_31JAN.head()",
      "execution_count": null,
      "outputs": []
    },
    {
      "metadata": {
        "trusted": true,
        "_uuid": "3f63d7d687a41b701d4d1d2ecf1f85f8a92bf0af"
      },
      "cell_type": "code",
      "source": "cust_31JAN.shape",
      "execution_count": null,
      "outputs": []
    },
    {
      "metadata": {
        "trusted": true,
        "_uuid": "2d520945f86333b56f8a58d62cf5d0f7d9a7ddb2",
        "scrolled": true
      },
      "cell_type": "code",
      "source": "cust_31JAN.isnull().sum()",
      "execution_count": null,
      "outputs": []
    },
    {
      "metadata": {
        "trusted": true,
        "_uuid": "7fa02dba3fd3b44702326935300515e9fe6c5fea"
      },
      "cell_type": "code",
      "source": "cust_31JAN.dtypes",
      "execution_count": null,
      "outputs": []
    },
    {
      "metadata": {
        "trusted": true,
        "_uuid": "c5746a9b90b2259fa30c12bb90c1d3fc7d5e7a91"
      },
      "cell_type": "code",
      "source": "sns.countplot(cust_31JAN['SEX'])",
      "execution_count": null,
      "outputs": []
    },
    {
      "metadata": {
        "trusted": true,
        "_uuid": "ea3e064c21847dbf3e64e5b465f44f20d3f8ed44"
      },
      "cell_type": "code",
      "source": "cust_31JAN['AGE'].fillna(cust_31JAN['AGE'].mean(),inplace=True)\ncust_31JAN['SEX'].fillna(cust_31JAN['SEX'].mode()[0],inplace=True)\ncust_31JAN['MARITAL_STATUS'].fillna(cust_31JAN['MARITAL_STATUS'].mode()[0],inplace=True)\ncust_31JAN['QUALIFICATION'].fillna(cust_31JAN['QUALIFICATION'].mode()[0],inplace=True)\ncust_31JAN['NO_OF_DEPENDENT'].fillna(cust_31JAN['NO_OF_DEPENDENT'].mode()[0],inplace=True)\ncust_31JAN['BRANCH_PINCODE'].fillna(cust_31JAN['BRANCH_PINCODE'].mode()[0],inplace=True)\n\nfrom sklearn.preprocessing import LabelEncoder\n\nlb_make = LabelEncoder()\ncust_31JAN[\"SEX\"] = lb_make.fit_transform(cust_31JAN[\"SEX\"])\ncust_31JAN[\"MARITAL_STATUS\"] = lb_make.fit_transform(cust_31JAN[\"MARITAL_STATUS\"])\ncust_31JAN[\"QUALIFICATION\"] = lb_make.fit_transform(cust_31JAN[\"QUALIFICATION\"])\n\ncust_31JAN.drop(['PROFESSION','OCCUPATION','POSITION','PRE_JOBYEARS'],axis=1,inplace=True)",
      "execution_count": null,
      "outputs": []
    },
    {
      "metadata": {
        "trusted": true,
        "_uuid": "9d68602c1eabf2437ec282270fa509369a2e0ed8"
      },
      "cell_type": "code",
      "source": "RF_Final.head()",
      "execution_count": null,
      "outputs": []
    },
    {
      "metadata": {
        "trusted": true,
        "_uuid": "ed77c66165741f831a6bfb26ef99eadeb99473a8"
      },
      "cell_type": "code",
      "source": "RF_Final.rename(index=str, columns={\"Masked_CustomerID\": \"CUSTOMERID\", \"Masked_AgreementID\": \"AGREEMENTID\"},inplace=True)",
      "execution_count": null,
      "outputs": []
    },
    {
      "metadata": {
        "trusted": true,
        "_uuid": "f5a54ba49eb643e7c09941d7882a4bfdb35b6b54"
      },
      "cell_type": "code",
      "source": "RF_Final.isnull().sum()",
      "execution_count": null,
      "outputs": []
    },
    {
      "metadata": {
        "trusted": true,
        "_uuid": "72b00e9ff48cdbf1a2a3c3f9d7d1fa5ce5e7b844"
      },
      "cell_type": "code",
      "source": "lms_31JAN.head()",
      "execution_count": null,
      "outputs": []
    },
    {
      "metadata": {
        "trusted": true,
        "_uuid": "bf08ab53c16459f42c283761eae75432c48fb366"
      },
      "cell_type": "code",
      "source": "lms_31JAN.shape",
      "execution_count": null,
      "outputs": []
    },
    {
      "metadata": {
        "trusted": true,
        "_uuid": "73afae43cfb38b218c671d9f2165f81eec13b67c"
      },
      "cell_type": "code",
      "source": "lms_31JAN = lms_31JAN.sort_values(by='LAST_RECEIPT_DATE',ascending=False).drop_duplicates(subset=['AGREEMENTID'])",
      "execution_count": null,
      "outputs": []
    },
    {
      "metadata": {
        "trusted": true,
        "_uuid": "f2325b83e722ffb9c01c9421bc04e90f88ee83d8"
      },
      "cell_type": "code",
      "source": "train_df = pd.merge(train,lms_31JAN,how='inner',on='AGREEMENTID')",
      "execution_count": null,
      "outputs": []
    },
    {
      "metadata": {
        "trusted": true,
        "_uuid": "75e78820c6931353107c67a0520e3addef2164d0"
      },
      "cell_type": "code",
      "source": "test_df = pd.merge(test,lms_31JAN,how='inner',on='AGREEMENTID')",
      "execution_count": null,
      "outputs": []
    },
    {
      "metadata": {
        "trusted": true,
        "_uuid": "4aa7d8b986bfa35828b6f3613072ff6cf6418f1d",
        "scrolled": false
      },
      "cell_type": "code",
      "source": "train_df.isnull().sum()",
      "execution_count": null,
      "outputs": []
    },
    {
      "metadata": {
        "trusted": true,
        "_uuid": "7db4b2e3dda1ca903fa661c7492e3c0c024c5bb3"
      },
      "cell_type": "code",
      "source": "train_df.head()",
      "execution_count": null,
      "outputs": []
    },
    {
      "metadata": {
        "trusted": true,
        "_uuid": "de1cfef9bfaaa45ea1c3bee1c7262d9956389c94"
      },
      "cell_type": "code",
      "source": "train_df.dtypes",
      "execution_count": null,
      "outputs": []
    },
    {
      "metadata": {
        "trusted": true,
        "_uuid": "fca2b1027f64cfc2dde082bd5a4dd13b9abf52cd"
      },
      "cell_type": "code",
      "source": "#correlation matrix\ncorrmat = train_df.corr()\nf, ax = plt.subplots(figsize=(12, 9))\nsns.heatmap(corrmat, square=True);",
      "execution_count": null,
      "outputs": []
    },
    {
      "metadata": {
        "trusted": true,
        "_uuid": "1e52789373d570ffbc099420dcb44e896675d75e"
      },
      "cell_type": "code",
      "source": "corrmat['FORECLOSURE'].sort_values()",
      "execution_count": null,
      "outputs": []
    },
    {
      "metadata": {
        "trusted": true,
        "_uuid": "83a2a0ec22a4765e4e9d8571b8263005dc177429"
      },
      "cell_type": "code",
      "source": "sns.countplot(train_df['FORECLOSURE'])",
      "execution_count": null,
      "outputs": []
    },
    {
      "metadata": {
        "trusted": true,
        "_uuid": "8c8c2972e488accba8f1e599a2c320d94ce3ccaa"
      },
      "cell_type": "code",
      "source": "sns.kdeplot(train_df['ORIGNAL_TENOR'],label = 'non-scaled',shade=True)\nsns.kdeplot(np.log(train_df['ORIGNAL_TENOR']+1), label='SCALED',shade=True)\nplt.legend();",
      "execution_count": null,
      "outputs": []
    },
    {
      "metadata": {
        "trusted": true,
        "_uuid": "852d52f98b42a5ccf7373a0b95230a48998866e3"
      },
      "cell_type": "code",
      "source": "sns.kdeplot(train_df['ORIGNAL_ROI']-train_df['CURRENT_ROI'],label = 'non-scaled',shade=True)\nsns.kdeplot(np.log(train_df['ORIGNAL_ROI']-train_df['CURRENT_ROI']+1), label='SCALED',shade=True)\nplt.legend();",
      "execution_count": null,
      "outputs": []
    },
    {
      "metadata": {
        "trusted": true,
        "_uuid": "885eee629243bdf3b8b11b05985ca877476d7960"
      },
      "cell_type": "code",
      "source": "train_df['diff_LOAN_AMT'] = train_df['LOAN_AMT']-train_df['NET_DISBURSED_AMT']\ntrain_df['diff_tenor'] = train_df['ORIGNAL_TENOR']-train_df['CURRENT_TENOR']\ntrain_df['diff_ROI'] = train_df['ORIGNAL_ROI']-train_df['CURRENT_ROI']\ntrain_df['total_PRINCIPAL'] = train_df['OUTSTANDING_PRINCIPAL']+train_df['PAID_PRINCIPAL']\n#train_df['total_tenure'] = train_df['COMPLETED_TENURE']+train_df['BALANCE_TENURE']\ntrain_df['SCHEMEID'].fillna(999,inplace=True)\ntrain_df['LAST_RECEIPT_AMOUNT'].fillna(train_df['LAST_RECEIPT_AMOUNT'].mean(),inplace=True)\n\ntest_df['diff_tenor'] = test_df['ORIGNAL_TENOR']-test_df['CURRENT_TENOR']\ntest_df['diff_ROI'] = test_df['ORIGNAL_ROI']-test_df['CURRENT_ROI']\ntest_df['diff_LOAN_AMT'] = test_df['LOAN_AMT']-test_df['NET_DISBURSED_AMT']\ntest_df['total_PRINCIPAL'] = test_df['OUTSTANDING_PRINCIPAL']+test_df['PAID_PRINCIPAL']\n#test_df['total_tenure'] = test_df['COMPLETED_TENURE']+test_df['BALANCE_TENURE']\ntest_df['SCHEMEID'].fillna(999,inplace=True)\ntest_df['LAST_RECEIPT_AMOUNT'].fillna(test_df['LAST_RECEIPT_AMOUNT'].mean(),inplace=True)",
      "execution_count": null,
      "outputs": []
    },
    {
      "metadata": {
        "trusted": true,
        "_uuid": "83d68d13ca35b47f082f34d63169fe933024b8e0"
      },
      "cell_type": "code",
      "source": "# Date Features\nimport datetime as dt\ntrain_df['AUTH_DAY'] = train_df['AUTHORIZATIONDATE'].map(lambda x: x.day)\ntest_df['AUTH_DAY'] = test_df['AUTHORIZATIONDATE'].map(lambda x: x.day)\ntrain_df['AUTH_MONTH'] = train_df['AUTHORIZATIONDATE'].map(lambda x: x.month)\ntest_df['AUTH_MONTH'] = test_df['AUTHORIZATIONDATE'].map(lambda x: x.month)\ntrain_df['AUTH_YEAR'] = train_df['AUTHORIZATIONDATE'].map(lambda x: x.year)\ntest_df['AUTH_YEAR'] = test_df['AUTHORIZATIONDATE'].map(lambda x: x.year)\n\ntrain_df['INTEREST_DAY'] = train_df['INTEREST_START_DATE'].map(lambda x: x.day)\ntest_df['INTEREST_DAY'] = test_df['INTEREST_START_DATE'].map(lambda x: x.day)\ntrain_df['INTEREST_MONTH'] = train_df['INTEREST_START_DATE'].map(lambda x: x.month)\ntest_df['INTEREST_MONTH'] = test_df['INTEREST_START_DATE'].map(lambda x: x.month)\ntrain_df['INTEREST_YEAR'] = train_df['INTEREST_START_DATE'].map(lambda x: x.year)\ntest_df['INTEREST_YEAR'] = test_df['INTEREST_START_DATE'].map(lambda x: x.year)\n\ntrain_df['LAST_RECEIPT_DAY'] = train_df['LAST_RECEIPT_DATE'].map(lambda x: x.day)\ntest_df['LAST_RECEIPT_DAY'] = test_df['LAST_RECEIPT_DATE'].map(lambda x: x.day)\ntrain_df['LAST_RECEIPT_MONTH'] = train_df['LAST_RECEIPT_DATE'].map(lambda x: x.month)\ntest_df['LAST_RECEIPT_MONTH'] = test_df['LAST_RECEIPT_DATE'].map(lambda x: x.month)\ntrain_df['LAST_RECEIPT_YEAR'] = train_df['LAST_RECEIPT_DATE'].map(lambda x: x.year)\ntest_df['LAST_RECEIPT_YEAR'] = test_df['LAST_RECEIPT_DATE'].map(lambda x: x.year)",
      "execution_count": null,
      "outputs": []
    },
    {
      "metadata": {
        "trusted": true,
        "_uuid": "802d495186066faaddafe5b5ec5b40ed6f6d4aaa"
      },
      "cell_type": "code",
      "source": "# train_df['LOAN_AMT'] = np.log(train_df['LOAN_AMT']+1)\n# train_df['LOAN_AMT'] = np.log(train_df['LOAN_AMT']+1)\n# train_df['LOAN_AMT'] = np.log(train_df['LOAN_AMT']+1)\n# train_df['NET_DISBURSED_AMT'] = np.log(train_df['NET_DISBURSED_AMT']+1)\n# train_df['MONTHOPENING'] = np.log(train_df['MONTHOPENING']+1)\n\nfor i in train_df.columns:\n    if train_df[i].dtype == 'float64':\n        train_df[i] = np.log(train_df[i]+1)\n        test_df[i] = np.log(test_df[i]+1)\n        \n# train_df['DUEDAY'] = np.log(train_df['DUEDAY']+1)\n# test_df['DUEDAY'] = np.log(test_df['DUEDAY']+1)\n\n# train_df['ORIGNAL_TENOR'] = np.log(train_df['ORIGNAL_TENOR']+1)\n# test_df['ORIGNAL_TENOR'] = np.log(test_df['ORIGNAL_TENOR']+1)\n\n# train_df['COMPLETED_TENURE'] = np.log(train_df['COMPLETED_TENURE']+1)\n# test_df['COMPLETED_TENURE'] = np.log(test_df['COMPLETED_TENURE']+1)",
      "execution_count": null,
      "outputs": []
    },
    {
      "metadata": {
        "trusted": true,
        "_uuid": "53a69773267cf4552247f349fc5f65621c9746ef"
      },
      "cell_type": "code",
      "source": "from sklearn.preprocessing import LabelEncoder\n\nlb_make = LabelEncoder()\ntrain_df[\"CITY\"] = lb_make.fit_transform(train_df[\"CITY\"])\ntrain_df[\"PRODUCT\"] = lb_make.fit_transform(train_df[\"PRODUCT\"])\n\ntest_df[\"CITY\"] = lb_make.fit_transform(test_df[\"CITY\"])\ntest_df[\"PRODUCT\"] = lb_make.fit_transform(test_df[\"PRODUCT\"])",
      "execution_count": null,
      "outputs": []
    },
    {
      "metadata": {
        "trusted": true,
        "_uuid": "f7116608e400b4ccda2ff150f867d14348fd1e74"
      },
      "cell_type": "code",
      "source": "feature_names = [x for x in train_df.columns if x not in ['AGREEMENTID','FORECLOSURE','NPA_IN_LAST_MONTH','NPA_IN_CURRENT_MONTH'\n                                                      ,'LAST_RECEIPT_DATE','CUSTOMERID',\n                                                         'INTEREST_START_DATE','AUTHORIZATIONDATE']]",
      "execution_count": null,
      "outputs": []
    },
    {
      "metadata": {
        "trusted": true,
        "_uuid": "f6be871e21686bf8864756835a8918d35ca86a71"
      },
      "cell_type": "code",
      "source": "model = CatBoostClassifier(iterations=10000,eval_metric='AUC',random_seed=42,verbose=False,max_depth=10,learning_rate=0.01,task_type='GPU')\n## model training and prediction\nmodel.fit(train_df[feature_names],target)\npred1 = model.predict_proba(test_df[feature_names])",
      "execution_count": null,
      "outputs": []
    },
    {
      "metadata": {
        "trusted": true,
        "_uuid": "ab56d79d35d08d32ed663df923ad5cbcaa006a70"
      },
      "cell_type": "code",
      "source": "model = lgb.LGBMClassifier(n_estimators=10000,n_jobs = -1,max_depth=10,learning_rate=0.01)\n## model training and prediction\nmodel.fit(train_df[feature_names],target)\npred2 = model.predict_proba(test_df[feature_names])",
      "execution_count": null,
      "outputs": []
    },
    {
      "metadata": {
        "trusted": true,
        "_uuid": "c70127448d21e9e39d9773055aebc18597b378ec"
      },
      "cell_type": "code",
      "source": "model = xgb.XGBClassifier(n_estimators=10000,n_jobs = -1,max_depth=10,learning_rate=0.01)\n## model training and prediction\nmodel.fit(train_df[feature_names],target)\npred3 = model.predict_proba(test_df[feature_names])",
      "execution_count": null,
      "outputs": []
    },
    {
      "metadata": {
        "trusted": true,
        "_uuid": "aff89baa739682efae00c4341e134a977156acc2"
      },
      "cell_type": "code",
      "source": "model = CatBoostClassifier(iterations=9000,eval_metric='AUC',random_seed=42,verbose=False,max_depth=12,learning_rate=0.01,task_type='GPU')\n## model training and prediction\nmodel.fit(train_df[feature_names],target)\npred4 = model.predict_proba(test_df[feature_names])",
      "execution_count": null,
      "outputs": []
    },
    {
      "metadata": {
        "trusted": true,
        "_uuid": "f844239a4b1c8871a3d6154c21bb6836243eed4a"
      },
      "cell_type": "code",
      "source": "model = CatBoostClassifier(iterations=8000,eval_metric='AUC',random_seed=42,verbose=False,max_depth=8,learning_rate=0.01,task_type='GPU')\n## model training and prediction\nmodel.fit(train_df[feature_names],target)\npred5 = model.predict_proba(test_df[feature_names])",
      "execution_count": null,
      "outputs": []
    },
    {
      "metadata": {
        "trusted": true,
        "_uuid": "567436a68e08637787266f87b92b7cc260726383"
      },
      "cell_type": "code",
      "source": "pred = []\nfor i in range(len(pred1)):\n    pred.append((pred1[i][1] + pred2[i][1] + pred3[i][1] + pred4[i][1] + pred5[i][1])/5)",
      "execution_count": null,
      "outputs": []
    },
    {
      "metadata": {
        "trusted": true,
        "_uuid": "d31043431b9f3e394db8f19cb268fc6664d8b2c9"
      },
      "cell_type": "code",
      "source": "## make submission\nsub = pd.DataFrame()\nsub['AGREEMENTID'] = test['AGREEMENTID']\nsub['FORECLOSURE'] = pred#[i[1] for i in pred]\nsub.to_csv('result.csv', index=False)",
      "execution_count": null,
      "outputs": []
    },
    {
      "metadata": {
        "trusted": true,
        "_uuid": "fee7ff81a5acf930f67354835a20a4008a6e5d3a"
      },
      "cell_type": "code",
      "source": "sub.head()",
      "execution_count": null,
      "outputs": []
    },
    {
      "metadata": {
        "trusted": true,
        "_uuid": "c3a02502c941ee564f8b3517f3aa93463d494059"
      },
      "cell_type": "code",
      "source": "",
      "execution_count": null,
      "outputs": []
    }
  ],
  "metadata": {
    "kernelspec": {
      "display_name": "Python 3",
      "language": "python",
      "name": "python3"
    },
    "language_info": {
      "name": "python",
      "version": "3.6.6",
      "mimetype": "text/x-python",
      "codemirror_mode": {
        "name": "ipython",
        "version": 3
      },
      "pygments_lexer": "ipython3",
      "nbconvert_exporter": "python",
      "file_extension": ".py"
    }
  },
  "nbformat": 4,
  "nbformat_minor": 1
}